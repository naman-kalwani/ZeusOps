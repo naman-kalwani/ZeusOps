{
 "cells": [
  {
   "cell_type": "code",
   "execution_count": 1,
   "metadata": {
    "colab": {
     "base_uri": "https://localhost:8080/"
    },
    "executionInfo": {
     "elapsed": 3105,
     "status": "ok",
     "timestamp": 1758299218502,
     "user": {
      "displayName": "Lekzang Jigme",
      "userId": "15030187845076288727"
     },
     "user_tz": -330
    },
    "id": "R1a2QBw7QRrp",
    "outputId": "224ca5c1-04ac-4e04-9673-b97c8f4633a4"
   },
   "outputs": [
    {
     "name": "stdout",
     "output_type": "stream",
     "text": [
      "Drive already mounted at /content/drive; to attempt to forcibly remount, call drive.mount(\"/content/drive\", force_remount=True).\n"
     ]
    }
   ],
   "source": [
    "from google.colab import drive\n",
    "drive.mount('/content/drive')"
   ]
  },
  {
   "cell_type": "code",
   "execution_count": 2,
   "metadata": {
    "executionInfo": {
     "elapsed": 2604,
     "status": "ok",
     "timestamp": 1758299221100,
     "user": {
      "displayName": "Lekzang Jigme",
      "userId": "15030187845076288727"
     },
     "user_tz": -330
    },
    "id": "8RsPjhwmQu8Q"
   },
   "outputs": [],
   "source": [
    "import pandas as pd\n",
    "import numpy as np\n",
    "from pathlib import Path\n",
    "from sklearn.ensemble import IsolationForest\n",
    "from sklearn.metrics import classification_report, confusion_matrix\n",
    "from sklearn.metrics import  accuracy_score, roc_auc_score, roc_curve\n",
    "from sklearn.metrics import precision_recall_curve\n",
    "import matplotlib.pyplot as plt\n",
    "import joblib"
   ]
  },
  {
   "cell_type": "code",
   "execution_count": 3,
   "metadata": {
    "executionInfo": {
     "elapsed": 1531,
     "status": "ok",
     "timestamp": 1758299222630,
     "user": {
      "displayName": "Lekzang Jigme",
      "userId": "15030187845076288727"
     },
     "user_tz": -330
    },
    "id": "vqe2TJ1UQ1_d"
   },
   "outputs": [],
   "source": [
    "DATA_DIR = Path(\"/content/drive/MyDrive/zeusOps/data/UNSW-NB15\")\n",
    "\n",
    "x_train = pd.read_pickle(DATA_DIR / \"unsw_x_train_v2.pkl\")\n",
    "x_test = pd.read_pickle(DATA_DIR / \"unsw_x_test_v2.pkl\")\n",
    "y_train = pd.read_pickle(DATA_DIR / \"unsw_y_train_v2.pkl\")\n",
    "y_test = pd.read_pickle(DATA_DIR / \"unsw_y_test_v2.pkl\")"
   ]
  },
  {
   "cell_type": "code",
   "execution_count": 4,
   "metadata": {
    "colab": {
     "base_uri": "https://localhost:8080/"
    },
    "executionInfo": {
     "elapsed": 18639,
     "status": "ok",
     "timestamp": 1758299241274,
     "user": {
      "displayName": "Lekzang Jigme",
      "userId": "15030187845076288727"
     },
     "user_tz": -330
    },
    "id": "YgSFcP1eRKuC",
    "outputId": "682b81a2-38e4-4849-f84c-afa174b2abe2"
   },
   "outputs": [
    {
     "data": {
      "text/plain": [
       "['/content/drive/MyDrive/zeusOps/models/unsw_isolation_forest_model_vfinalD.pkl']"
      ]
     },
     "execution_count": 4,
     "metadata": {},
     "output_type": "execute_result"
    }
   ],
   "source": [
    "MODEL_DIR = Path(\"/content/drive/MyDrive/zeusOps/models\")\n",
    "MODEL_DIR.mkdir(exist_ok=True)\n",
    "\n",
    "iso_model = IsolationForest(contamination=0.13, random_state=42, n_jobs=-1)\n",
    "iso_model.fit(x_train)\n",
    "\n",
    "# Save\n",
    "joblib.dump(iso_model, MODEL_DIR / \"unsw_isolation_forest_model_vfinalD.pkl\")"
   ]
  },
  {
   "cell_type": "code",
   "execution_count": 5,
   "metadata": {
    "executionInfo": {
     "elapsed": 2958,
     "status": "ok",
     "timestamp": 1758299244235,
     "user": {
      "displayName": "Lekzang Jigme",
      "userId": "15030187845076288727"
     },
     "user_tz": -330
    },
    "id": "nynG0E1cywu4"
   },
   "outputs": [],
   "source": [
    "# ---- Predict ----\n",
    "y_pred = iso_model.predict(x_test)\n",
    "\n",
    "# ---- Convert Labels ----\n",
    "# Ground truth: 0 = normal, 1 = attack\n",
    "y_test_binary = np.where(y_test == 7, 0, 1)\n",
    "\n",
    "# Model output: -1 = anomaly → attack (1), 1 = normal → 0\n",
    "y_pred_binary = np.where(y_pred == 1, 0, 1)"
   ]
  },
  {
   "cell_type": "code",
   "execution_count": 6,
   "metadata": {
    "colab": {
     "base_uri": "https://localhost:8080/"
    },
    "executionInfo": {
     "elapsed": 11,
     "status": "ok",
     "timestamp": 1758299244250,
     "user": {
      "displayName": "Lekzang Jigme",
      "userId": "15030187845076288727"
     },
     "user_tz": -330
    },
    "id": "h_j6LxBjy0Ua",
    "outputId": "558b450a-b668-48b7-83cf-939003d0f251"
   },
   "outputs": [
    {
     "name": "stdout",
     "output_type": "stream",
     "text": [
      "Confusion Matrix:\n",
      "[[349992  41962]\n",
      " [  8013  11916]]\n"
     ]
    }
   ],
   "source": [
    "# ---- Confusion Matrix ----\n",
    "print(\"Confusion Matrix:\")\n",
    "print(confusion_matrix(y_test_binary, y_pred_binary))"
   ]
  },
  {
   "cell_type": "code",
   "execution_count": 7,
   "metadata": {
    "colab": {
     "base_uri": "https://localhost:8080/"
    },
    "executionInfo": {
     "elapsed": 305,
     "status": "ok",
     "timestamp": 1758299244554,
     "user": {
      "displayName": "Lekzang Jigme",
      "userId": "15030187845076288727"
     },
     "user_tz": -330
    },
    "id": "kgi9QoDEy3xT",
    "outputId": "b6ddf5a0-87e0-46dc-a5ca-0cedadcd6acc"
   },
   "outputs": [
    {
     "name": "stdout",
     "output_type": "stream",
     "text": [
      "\n",
      "Classification Report:\n",
      "              precision    recall  f1-score   support\n",
      "\n",
      "      normal       0.98      0.89      0.93    391954\n",
      "      attack       0.22      0.60      0.32     19929\n",
      "\n",
      "    accuracy                           0.88    411883\n",
      "   macro avg       0.60      0.75      0.63    411883\n",
      "weighted avg       0.94      0.88      0.90    411883\n",
      "\n"
     ]
    }
   ],
   "source": [
    "# ---- Classification Report ----\n",
    "print(\"\\nClassification Report:\")\n",
    "print(classification_report(y_test_binary, y_pred_binary, target_names=[\"normal\",\"attack\"]))"
   ]
  },
  {
   "cell_type": "code",
   "execution_count": 8,
   "metadata": {
    "colab": {
     "base_uri": "https://localhost:8080/"
    },
    "executionInfo": {
     "elapsed": 13,
     "status": "ok",
     "timestamp": 1758299244570,
     "user": {
      "displayName": "Lekzang Jigme",
      "userId": "15030187845076288727"
     },
     "user_tz": -330
    },
    "id": "HqgOAr4Fy6It",
    "outputId": "2b356c5c-78a9-4af5-c0c0-a306f95be39d"
   },
   "outputs": [
    {
     "name": "stdout",
     "output_type": "stream",
     "text": [
      "\n",
      "Accuracy: 0.8787\n"
     ]
    }
   ],
   "source": [
    "# ---- Accuracy ----\n",
    "acc = accuracy_score(y_test_binary, y_pred_binary)\n",
    "print(f\"\\nAccuracy: {acc:.4f}\")"
   ]
  },
  {
   "cell_type": "code",
   "execution_count": 10,
   "metadata": {
    "colab": {
     "base_uri": "https://localhost:8080/"
    },
    "executionInfo": {
     "elapsed": 3501,
     "status": "ok",
     "timestamp": 1758299267755,
     "user": {
      "displayName": "Lekzang Jigme",
      "userId": "15030187845076288727"
     },
     "user_tz": -330
    },
    "id": "X4VKm9rqy8u3",
    "outputId": "5d4ddaf7-cfa0-4080-e4bd-28b9c9033a83"
   },
   "outputs": [
    {
     "name": "stdout",
     "output_type": "stream",
     "text": [
      "ROC-AUC: 0.8465\n"
     ]
    }
   ],
   "source": [
    "# ---- ROC-AUC (continuous scores) ----\n",
    "y_scores = iso_model.decision_function(x_test) * -1  # invert: higher = more anomalous\n",
    "auc = roc_auc_score(y_test_binary, y_scores)\n",
    "print(f\"ROC-AUC: {auc:.4f}\")"
   ]
  },
  {
   "cell_type": "code",
   "execution_count": 11,
   "metadata": {
    "colab": {
     "base_uri": "https://localhost:8080/",
     "height": 564
    },
    "executionInfo": {
     "elapsed": 488,
     "status": "ok",
     "timestamp": 1758299272282,
     "user": {
      "displayName": "Lekzang Jigme",
      "userId": "15030187845076288727"
     },
     "user_tz": -330
    },
    "id": "yrBZYEAYzAQy",
    "outputId": "ba65abf3-fb0d-4a86-b231-aab049f4d897"
   },
   "outputs": [
    {
     "data": {
      "image/png": "[encoded data removed]",
      "text/plain": [
       "<Figure size 600x600 with 1 Axes>"
      ]
     },
     "metadata": {},
     "output_type": "display_data"
    }
   ],
   "source": [
    "# ---- ROC Curve ----\n",
    "fpr, tpr, thresholds = roc_curve(y_test_binary, y_scores)\n",
    "plt.figure(figsize=(6,6))\n",
    "plt.plot(fpr, tpr, label=f\"ROC Curve (AUC = {auc:.4f})\")\n",
    "plt.plot([0,1], [0,1], linestyle=\"--\", color=\"gray\")\n",
    "plt.xlabel(\"False Positive Rate\")\n",
    "plt.ylabel(\"True Positive Rate\")\n",
    "plt.title(\"ROC Curve - Isolation Forest v2\")\n",
    "plt.legend()\n",
    "plt.show()"
   ]
  },
  {
   "cell_type": "code",
   "execution_count": 12,
   "metadata": {
    "colab": {
     "base_uri": "https://localhost:8080/"
    },
    "executionInfo": {
     "elapsed": 18,
     "status": "ok",
     "timestamp": 1758299276989,
     "user": {
      "displayName": "Lekzang Jigme",
      "userId": "15030187845076288727"
     },
     "user_tz": -330
    },
    "id": "eKHzxYu8zChm",
    "outputId": "1173cd7f-7f8d-4fcb-d8b5-bc99ff4cff64"
   },
   "outputs": [
    {
     "name": "stdout",
     "output_type": "stream",
     "text": [
      "\n",
      "Total test samples: 411883\n",
      "Total ground-truth attacks: 19929\n",
      "Total predicted attacks: 53878\n"
     ]
    }
   ],
   "source": [
    "# --- 6. Quick diagnostics for tuning ---\n",
    "print(\"\\nTotal test samples:\", len(y_test_binary))\n",
    "print(\"Total ground-truth attacks:\", int(y_test_binary.sum()))\n",
    "print(\"Total predicted attacks:\", int(y_pred_binary.sum()))"
   ]
  },
  {
   "cell_type": "code",
   "execution_count": 13,
   "metadata": {
    "executionInfo": {
     "elapsed": 5,
     "status": "ok",
     "timestamp": 1758299318638,
     "user": {
      "displayName": "Lekzang Jigme",
      "userId": "15030187845076288727"
     },
     "user_tz": -330
    },
    "id": "CYxMVEuJR8ox"
   },
   "outputs": [],
   "source": [
    "# # ---- Convert Labels ----\n",
    "# # Ground truth: 0 = normal, 1 = attack\n",
    "# y_test_binary = np.where(y_test == 7, 0, 1)\n",
    "\n",
    "# # --- 3. Raw anomaly scores ---\n",
    "# y_scores = iso_model.decision_function(x_test)   # higher = normal, lower = anomaly"
   ]
  },
  {
   "cell_type": "code",
   "execution_count": 14,
   "metadata": {
    "executionInfo": {
     "elapsed": 3,
     "status": "ok",
     "timestamp": 1758299319936,
     "user": {
      "displayName": "Lekzang Jigme",
      "userId": "15030187845076288727"
     },
     "user_tz": -330
    },
    "id": "p34qs3QchqoA"
   },
   "outputs": [],
   "source": [
    "# # --- 4. Precision-Recall Curve + Threshold tuning ---\n",
    "# precisions, recalls, thresholds = precision_recall_curve(y_test_binary, -y_scores)\n",
    "\n",
    "# plt.figure(figsize=(7,5))\n",
    "# plt.plot(recalls, precisions, linewidth=2)\n",
    "# plt.xlabel(\"Recall\")\n",
    "# plt.ylabel(\"Precision\")\n",
    "# plt.title(\"Precision-Recall Curve - Isolation Forest\")\n",
    "# plt.grid()\n",
    "# plt.show()"
   ]
  },
  {
   "cell_type": "code",
   "execution_count": 15,
   "metadata": {
    "executionInfo": {
     "elapsed": 3,
     "status": "ok",
     "timestamp": 1758299321550,
     "user": {
      "displayName": "Lekzang Jigme",
      "userId": "15030187845076288727"
     },
     "user_tz": -330
    },
    "id": "lHTQ_7Zqhu6w"
   },
   "outputs": [],
   "source": [
    "# # Choose threshold for target recall\n",
    "# target_recall = 0.8\n",
    "# idx = np.argmax(recalls >= target_recall)\n",
    "# best_threshold = thresholds[idx]\n",
    "\n",
    "# print(f\"Best threshold for ~{target_recall:.2f} recall: {best_threshold:.4f}\")\n",
    "\n",
    "# # Apply tuned threshold\n",
    "# y_pred_custom = np.where(-y_scores >= best_threshold, 1, 0)  # 1=attack, 0=normal"
   ]
  },
  {
   "cell_type": "code",
   "execution_count": 16,
   "metadata": {
    "executionInfo": {
     "elapsed": 30,
     "status": "ok",
     "timestamp": 1758299322818,
     "user": {
      "displayName": "Lekzang Jigme",
      "userId": "15030187845076288727"
     },
     "user_tz": -330
    },
    "id": "Q-ArDNxvU8st"
   },
   "outputs": [],
   "source": [
    "# print(\"Confusion Matrix:\")\n",
    "# print(confusion_matrix(y_test_binary, y_pred_custom))"
   ]
  },
  {
   "cell_type": "code",
   "execution_count": 17,
   "metadata": {
    "executionInfo": {
     "elapsed": 19,
     "status": "ok",
     "timestamp": 1758299324224,
     "user": {
      "displayName": "Lekzang Jigme",
      "userId": "15030187845076288727"
     },
     "user_tz": -330
    },
    "id": "RqsEFAymVAEp"
   },
   "outputs": [],
   "source": [
    "# # --- 5. Evaluate ---\n",
    "# print(\"\\nClassification Report (with tuned threshold):\")\n",
    "# print(classification_report(y_test_binary, y_pred_custom, target_names=[\"normal\",\"attack\"]))"
   ]
  },
  {
   "cell_type": "code",
   "execution_count": 18,
   "metadata": {
    "executionInfo": {
     "elapsed": 3,
     "status": "ok",
     "timestamp": 1758299325135,
     "user": {
      "displayName": "Lekzang Jigme",
      "userId": "15030187845076288727"
     },
     "user_tz": -330
    },
    "id": "_s4PjUiHWZJ0"
   },
   "outputs": [],
   "source": [
    "# # --- 6. ROC-AUC (optional) ---\n",
    "# auc = roc_auc_score(y_test_binary, -y_scores)\n",
    "# print(f\"ROC-AUC: {auc:.4f}\")"
   ]
  },
  {
   "cell_type": "code",
   "execution_count": 19,
   "metadata": {
    "executionInfo": {
     "elapsed": 3,
     "status": "ok",
     "timestamp": 1758299326670,
     "user": {
      "displayName": "Lekzang Jigme",
      "userId": "15030187845076288727"
     },
     "user_tz": -330
    },
    "id": "lEze_pP1VE42"
   },
   "outputs": [],
   "source": [
    "# # ---- Accuracy ----\n",
    "# acc = accuracy_score(y_test_binary, y_pred_custom)\n",
    "# print(f\"\\nAccuracy: {acc:.4f}\")"
   ]
  },
  {
   "cell_type": "code",
   "execution_count": 20,
   "metadata": {
    "executionInfo": {
     "elapsed": 10,
     "status": "ok",
     "timestamp": 1758299327848,
     "user": {
      "displayName": "Lekzang Jigme",
      "userId": "15030187845076288727"
     },
     "user_tz": -330
    },
    "id": "mhY2w3eJud8g"
   },
   "outputs": [],
   "source": [
    "# print(\"Train label distribution:\")\n",
    "# print(y_train.value_counts())\n",
    "\n",
    "# print(\"\\nTest label distribution:\")\n",
    "# print(y_test.value_counts())\n"
   ]
  },
  {
   "cell_type": "code",
   "execution_count": 21,
   "metadata": {
    "executionInfo": {
     "elapsed": 3,
     "status": "ok",
     "timestamp": 1758299330871,
     "user": {
      "displayName": "Lekzang Jigme",
      "userId": "15030187845076288727"
     },
     "user_tz": -330
    },
    "id": "PBN-pGY6w3KY"
   },
   "outputs": [],
   "source": [
    "# print(\"Train mean:\", x_train_scaled.mean(), \"std:\", x_train_scaled.std())\n",
    "# print(\"Test mean:\", x_test_scaled.mean(), \"std:\", x_test_scaled.std())\n"
   ]
  },
  {
   "cell_type": "code",
   "execution_count": 22,
   "metadata": {
    "executionInfo": {
     "elapsed": 5,
     "status": "ok",
     "timestamp": 1758299332220,
     "user": {
      "displayName": "Lekzang Jigme",
      "userId": "15030187845076288727"
     },
     "user_tz": -330
    },
    "id": "STZm22jrWfCQ"
   },
   "outputs": [],
   "source": [
    "# # ---- ROC Curve ----\n",
    "# fpr, tpr, thresholds = roc_curve(y_test_binary, y_scores)\n",
    "# plt.figure(figsize=(6,6))\n",
    "# plt.plot(fpr, tpr, label=f\"ROC Curve (AUC = {auc:.4f})\")\n",
    "# plt.plot([0,1], [0,1], linestyle=\"--\", color=\"gray\")\n",
    "# plt.xlabel(\"False Positive Rate\")\n",
    "# plt.ylabel(\"True Positive Rate\")\n",
    "# plt.title(\"ROC Curve - Isolation Forest v2\")\n",
    "# plt.legend()\n",
    "# plt.show()"
   ]
  },
  {
   "cell_type": "code",
   "execution_count": 23,
   "metadata": {
    "executionInfo": {
     "elapsed": 20,
     "status": "ok",
     "timestamp": 1758299333764,
     "user": {
      "displayName": "Lekzang Jigme",
      "userId": "15030187845076288727"
     },
     "user_tz": -330
    },
    "id": "8lTSnZ3lVHSj"
   },
   "outputs": [],
   "source": [
    "# # --- 6. Quick diagnostics for tuning ---\n",
    "# print(\"\\nTotal test samples:\", len(y_test_binary))\n",
    "# print(\"Total ground-truth attacks:\", int(y_test_binary.sum()))\n",
    "# print(\"Total predicted attacks:\", int(y_pred_binary.sum()))"
   ]
  },
  {
   "cell_type": "code",
   "execution_count": 24,
   "metadata": {
    "executionInfo": {
     "elapsed": 8,
     "status": "ok",
     "timestamp": 1758299334658,
     "user": {
      "displayName": "Lekzang Jigme",
      "userId": "15030187845076288727"
     },
     "user_tz": -330
    },
    "id": "61yKghPSY5g1"
   },
   "outputs": [],
   "source": [
    "# print(\"Train distribution:\\n\", y_train.value_counts(normalize=True))\n",
    "# print(\"Test distribution:\\n\", y_test.value_counts(normalize=True))\n"
   ]
  }
 ],
 "metadata": {
  "colab": {
   "authorship_tag": "ABX9TyNocw6kg7qkTqtef8Dcc+gv",
   "provenance": []
  },
  "kernelspec": {
   "display_name": "Python 3",
   "name": "python3"
  },
  "language_info": {
   "name": "python",
   "version": "3.10.6"
  }
 },
 "nbformat": 4,
 "nbformat_minor": 0
}
